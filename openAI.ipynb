{
  "cells": [
    {
      "cell_type": "code",
      "execution_count": 1,
      "metadata": {
        "id": "7kg-KwPQw_-N"
      },
      "outputs": [],
      "source": [
        "# Install OpenAI library\n",
        "!pip install -U -q openai tenacity"
      ]
    },
    {
      "cell_type": "code",
      "execution_count": 2,
      "metadata": {
        "id": "FDeRNNSExBey"
      },
      "outputs": [],
      "source": [
        "import pandas as pd\n",
        "from openai import OpenAI\n",
        "import json,os"
      ]
    },
    {
      "cell_type": "code",
      "execution_count": 3,
      "metadata": {
        "colab": {
          "base_uri": "https://localhost:8080/"
        },
        "id": "lGP8OuKw0mBi",
        "outputId": "87d0aff6-f0ef-4e57-b5f3-f20d9fe3f0c0"
      },
      "outputs": [
        {
          "output_type": "stream",
          "name": "stdout",
          "text": [
            "Drive already mounted at /content/drive; to attempt to forcibly remount, call drive.mount(\"/content/drive\", force_remount=True).\n"
          ]
        }
      ],
      "source": [
        "from google.colab import drive\n",
        "drive.mount('/content/drive')"
      ]
    },
    {
      "cell_type": "code",
      "execution_count": 4,
      "metadata": {
        "id": "Yxjr6uOI0t_y"
      },
      "outputs": [],
      "source": [
        "filepath = '/content/drive/MyDrive/chatbot_llm/'"
      ]
    },
    {
      "cell_type": "markdown",
      "metadata": {
        "id": "qcJ7cKeYzzga"
      },
      "source": [
        "# **Initialize the OpenAI**"
      ]
    },
    {
      "cell_type": "code",
      "execution_count": 5,
      "metadata": {
        "id": "d8ska_Oh0-1J"
      },
      "outputs": [],
      "source": [
        "# Read the OpenAI API key\n",
        "import openai\n",
        "\n",
        "with open(filepath + \"OpenAI_API_Key.txt\", \"r\") as f:\n",
        "  openai.api_key = ' '.join(f.readlines())\n",
        "openai_client = OpenAI(api_key=openai.api_key)\n",
        "  #os.environ['OPENAI_API_KEY'] = openai.api_key"
      ]
    },
    {
      "cell_type": "markdown",
      "metadata": {
        "id": "zWdbaTTj2Qa0"
      },
      "source": [
        "# Read the data"
      ]
    },
    {
      "cell_type": "code",
      "execution_count": 6,
      "metadata": {
        "id": "6U32CI0JztcD"
      },
      "outputs": [],
      "source": [
        "data = pd.read_json(filepath + \"intents (1).json\")"
      ]
    },
    {
      "cell_type": "code",
      "execution_count": 7,
      "metadata": {
        "colab": {
          "base_uri": "https://localhost:8080/",
          "height": 1000
        },
        "id": "YLLQKeN7zvIy",
        "outputId": "ec529620-ba74-434b-8ecf-ce8c406d489f"
      },
      "outputs": [
        {
          "output_type": "execute_result",
          "data": {
            "text/plain": [
              "                                              intents\n",
              "0   {'tag': 'greeting', 'patterns': ['Hi', 'Hey', ...\n",
              "1   {'tag': 'morning', 'patterns': ['Good morning'...\n",
              "2   {'tag': 'afternoon', 'patterns': ['Good aftern...\n",
              "3   {'tag': 'evening', 'patterns': ['Good evening'...\n",
              "4   {'tag': 'night', 'patterns': ['Good night'], '...\n",
              "5   {'tag': 'goodbye', 'patterns': ['Bye', 'See yo...\n",
              "6   {'tag': 'thanks', 'patterns': ['Thanks', 'Than...\n",
              "7   {'tag': 'no-response', 'patterns': [''], 'resp...\n",
              "8   {'tag': 'neutral-response', 'patterns': ['noth...\n",
              "9   {'tag': 'about', 'patterns': ['Who are you?', ...\n",
              "10  {'tag': 'skill', 'patterns': ['What can you do...\n",
              "11  {'tag': 'creation', 'patterns': ['Who created ...\n",
              "12  {'tag': 'name', 'patterns': ['My name is ', 'I...\n",
              "13  {'tag': 'help', 'patterns': ['Could you help m...\n",
              "14  {'tag': 'sad', 'patterns': ['I am feeling lone...\n",
              "15  {'tag': 'stressed', 'patterns': ['I am so stre...\n",
              "16  {'tag': 'worthless', 'patterns': ['I feel so w...\n",
              "17  {'tag': 'depressed', 'patterns': ['I can't tak...\n",
              "18  {'tag': 'happy', 'patterns': ['I feel great to...\n",
              "19  {'tag': 'casual', 'patterns': ['Oh I see.', 'o...\n",
              "20  {'tag': 'anxious', 'patterns': ['I feel so anx...\n",
              "21  {'tag': 'not-talking', 'patterns': ['I don't w...\n",
              "22  {'tag': 'sleep', 'patterns': ['I have insomini...\n",
              "23  {'tag': 'scared', 'patterns': ['I'm scared', '...\n",
              "24  {'tag': 'death', 'patterns': ['My mom died', '...\n",
              "25  {'tag': 'understand', 'patterns': ['You don't ...\n",
              "26  {'tag': 'done', 'patterns': ['That's all.', 'I...\n",
              "27  {'tag': 'suicide', 'patterns': ['I want to kil...\n",
              "28  {'tag': 'hate-you', 'patterns': ['I hate you',...\n",
              "29  {'tag': 'hate-me', 'patterns': ['You hate me',...\n",
              "30  {'tag': 'default', 'patterns': ['exams', 'frie...\n",
              "31  {'tag': 'jokes', 'patterns': ['Tell me a joke'...\n",
              "32  {'tag': 'repeat', 'patterns': ['You already to...\n",
              "33  {'tag': 'wrong', 'patterns': ['What are you sa...\n",
              "34  {'tag': 'stupid', 'patterns': ['Are you stupid...\n",
              "35  {'tag': 'location', 'patterns': ['Where are yo...\n",
              "36  {'tag': 'something-else', 'patterns': ['I want...\n",
              "37  {'tag': 'friends', 'patterns': ['I don't have ...\n",
              "38  {'tag': 'ask', 'patterns': ['Can I ask you som...\n",
              "39  {'tag': 'problem', 'patterns': ['Probably beca...\n",
              "40  {'tag': 'no-approach', 'patterns': ['I guess n...\n",
              "41  {'tag': 'learn-more', 'patterns': ['ok sure. i...\n",
              "42  {'tag': 'user-agree', 'patterns': ['yeah you'r...\n",
              "43  {'tag': 'meditation', 'patterns': ['hmmm that ...\n",
              "44  {'tag': 'user-meditation', 'patterns': ['i did...\n",
              "45  {'tag': 'pandora-useful', 'patterns': ['thank ...\n",
              "46  {'tag': 'user-advice', 'patterns': ['I want so...\n",
              "47  {'tag': 'learn-mental-health', 'patterns': ['I...\n",
              "48  {'tag': 'mental-health-fact', 'patterns': ['Te...\n",
              "49  {'tag': 'fact-1', 'patterns': ['What is mental..."
            ],
            "text/html": [
              "\n",
              "  <div id=\"df-0baabb8f-81ee-46af-a68b-2e3fe43dea4c\" class=\"colab-df-container\">\n",
              "    <div>\n",
              "<style scoped>\n",
              "    .dataframe tbody tr th:only-of-type {\n",
              "        vertical-align: middle;\n",
              "    }\n",
              "\n",
              "    .dataframe tbody tr th {\n",
              "        vertical-align: top;\n",
              "    }\n",
              "\n",
              "    .dataframe thead th {\n",
              "        text-align: right;\n",
              "    }\n",
              "</style>\n",
              "<table border=\"1\" class=\"dataframe\">\n",
              "  <thead>\n",
              "    <tr style=\"text-align: right;\">\n",
              "      <th></th>\n",
              "      <th>intents</th>\n",
              "    </tr>\n",
              "  </thead>\n",
              "  <tbody>\n",
              "    <tr>\n",
              "      <th>0</th>\n",
              "      <td>{'tag': 'greeting', 'patterns': ['Hi', 'Hey', ...</td>\n",
              "    </tr>\n",
              "    <tr>\n",
              "      <th>1</th>\n",
              "      <td>{'tag': 'morning', 'patterns': ['Good morning'...</td>\n",
              "    </tr>\n",
              "    <tr>\n",
              "      <th>2</th>\n",
              "      <td>{'tag': 'afternoon', 'patterns': ['Good aftern...</td>\n",
              "    </tr>\n",
              "    <tr>\n",
              "      <th>3</th>\n",
              "      <td>{'tag': 'evening', 'patterns': ['Good evening'...</td>\n",
              "    </tr>\n",
              "    <tr>\n",
              "      <th>4</th>\n",
              "      <td>{'tag': 'night', 'patterns': ['Good night'], '...</td>\n",
              "    </tr>\n",
              "    <tr>\n",
              "      <th>5</th>\n",
              "      <td>{'tag': 'goodbye', 'patterns': ['Bye', 'See yo...</td>\n",
              "    </tr>\n",
              "    <tr>\n",
              "      <th>6</th>\n",
              "      <td>{'tag': 'thanks', 'patterns': ['Thanks', 'Than...</td>\n",
              "    </tr>\n",
              "    <tr>\n",
              "      <th>7</th>\n",
              "      <td>{'tag': 'no-response', 'patterns': [''], 'resp...</td>\n",
              "    </tr>\n",
              "    <tr>\n",
              "      <th>8</th>\n",
              "      <td>{'tag': 'neutral-response', 'patterns': ['noth...</td>\n",
              "    </tr>\n",
              "    <tr>\n",
              "      <th>9</th>\n",
              "      <td>{'tag': 'about', 'patterns': ['Who are you?', ...</td>\n",
              "    </tr>\n",
              "    <tr>\n",
              "      <th>10</th>\n",
              "      <td>{'tag': 'skill', 'patterns': ['What can you do...</td>\n",
              "    </tr>\n",
              "    <tr>\n",
              "      <th>11</th>\n",
              "      <td>{'tag': 'creation', 'patterns': ['Who created ...</td>\n",
              "    </tr>\n",
              "    <tr>\n",
              "      <th>12</th>\n",
              "      <td>{'tag': 'name', 'patterns': ['My name is ', 'I...</td>\n",
              "    </tr>\n",
              "    <tr>\n",
              "      <th>13</th>\n",
              "      <td>{'tag': 'help', 'patterns': ['Could you help m...</td>\n",
              "    </tr>\n",
              "    <tr>\n",
              "      <th>14</th>\n",
              "      <td>{'tag': 'sad', 'patterns': ['I am feeling lone...</td>\n",
              "    </tr>\n",
              "    <tr>\n",
              "      <th>15</th>\n",
              "      <td>{'tag': 'stressed', 'patterns': ['I am so stre...</td>\n",
              "    </tr>\n",
              "    <tr>\n",
              "      <th>16</th>\n",
              "      <td>{'tag': 'worthless', 'patterns': ['I feel so w...</td>\n",
              "    </tr>\n",
              "    <tr>\n",
              "      <th>17</th>\n",
              "      <td>{'tag': 'depressed', 'patterns': ['I can't tak...</td>\n",
              "    </tr>\n",
              "    <tr>\n",
              "      <th>18</th>\n",
              "      <td>{'tag': 'happy', 'patterns': ['I feel great to...</td>\n",
              "    </tr>\n",
              "    <tr>\n",
              "      <th>19</th>\n",
              "      <td>{'tag': 'casual', 'patterns': ['Oh I see.', 'o...</td>\n",
              "    </tr>\n",
              "    <tr>\n",
              "      <th>20</th>\n",
              "      <td>{'tag': 'anxious', 'patterns': ['I feel so anx...</td>\n",
              "    </tr>\n",
              "    <tr>\n",
              "      <th>21</th>\n",
              "      <td>{'tag': 'not-talking', 'patterns': ['I don't w...</td>\n",
              "    </tr>\n",
              "    <tr>\n",
              "      <th>22</th>\n",
              "      <td>{'tag': 'sleep', 'patterns': ['I have insomini...</td>\n",
              "    </tr>\n",
              "    <tr>\n",
              "      <th>23</th>\n",
              "      <td>{'tag': 'scared', 'patterns': ['I'm scared', '...</td>\n",
              "    </tr>\n",
              "    <tr>\n",
              "      <th>24</th>\n",
              "      <td>{'tag': 'death', 'patterns': ['My mom died', '...</td>\n",
              "    </tr>\n",
              "    <tr>\n",
              "      <th>25</th>\n",
              "      <td>{'tag': 'understand', 'patterns': ['You don't ...</td>\n",
              "    </tr>\n",
              "    <tr>\n",
              "      <th>26</th>\n",
              "      <td>{'tag': 'done', 'patterns': ['That's all.', 'I...</td>\n",
              "    </tr>\n",
              "    <tr>\n",
              "      <th>27</th>\n",
              "      <td>{'tag': 'suicide', 'patterns': ['I want to kil...</td>\n",
              "    </tr>\n",
              "    <tr>\n",
              "      <th>28</th>\n",
              "      <td>{'tag': 'hate-you', 'patterns': ['I hate you',...</td>\n",
              "    </tr>\n",
              "    <tr>\n",
              "      <th>29</th>\n",
              "      <td>{'tag': 'hate-me', 'patterns': ['You hate me',...</td>\n",
              "    </tr>\n",
              "    <tr>\n",
              "      <th>30</th>\n",
              "      <td>{'tag': 'default', 'patterns': ['exams', 'frie...</td>\n",
              "    </tr>\n",
              "    <tr>\n",
              "      <th>31</th>\n",
              "      <td>{'tag': 'jokes', 'patterns': ['Tell me a joke'...</td>\n",
              "    </tr>\n",
              "    <tr>\n",
              "      <th>32</th>\n",
              "      <td>{'tag': 'repeat', 'patterns': ['You already to...</td>\n",
              "    </tr>\n",
              "    <tr>\n",
              "      <th>33</th>\n",
              "      <td>{'tag': 'wrong', 'patterns': ['What are you sa...</td>\n",
              "    </tr>\n",
              "    <tr>\n",
              "      <th>34</th>\n",
              "      <td>{'tag': 'stupid', 'patterns': ['Are you stupid...</td>\n",
              "    </tr>\n",
              "    <tr>\n",
              "      <th>35</th>\n",
              "      <td>{'tag': 'location', 'patterns': ['Where are yo...</td>\n",
              "    </tr>\n",
              "    <tr>\n",
              "      <th>36</th>\n",
              "      <td>{'tag': 'something-else', 'patterns': ['I want...</td>\n",
              "    </tr>\n",
              "    <tr>\n",
              "      <th>37</th>\n",
              "      <td>{'tag': 'friends', 'patterns': ['I don't have ...</td>\n",
              "    </tr>\n",
              "    <tr>\n",
              "      <th>38</th>\n",
              "      <td>{'tag': 'ask', 'patterns': ['Can I ask you som...</td>\n",
              "    </tr>\n",
              "    <tr>\n",
              "      <th>39</th>\n",
              "      <td>{'tag': 'problem', 'patterns': ['Probably beca...</td>\n",
              "    </tr>\n",
              "    <tr>\n",
              "      <th>40</th>\n",
              "      <td>{'tag': 'no-approach', 'patterns': ['I guess n...</td>\n",
              "    </tr>\n",
              "    <tr>\n",
              "      <th>41</th>\n",
              "      <td>{'tag': 'learn-more', 'patterns': ['ok sure. i...</td>\n",
              "    </tr>\n",
              "    <tr>\n",
              "      <th>42</th>\n",
              "      <td>{'tag': 'user-agree', 'patterns': ['yeah you'r...</td>\n",
              "    </tr>\n",
              "    <tr>\n",
              "      <th>43</th>\n",
              "      <td>{'tag': 'meditation', 'patterns': ['hmmm that ...</td>\n",
              "    </tr>\n",
              "    <tr>\n",
              "      <th>44</th>\n",
              "      <td>{'tag': 'user-meditation', 'patterns': ['i did...</td>\n",
              "    </tr>\n",
              "    <tr>\n",
              "      <th>45</th>\n",
              "      <td>{'tag': 'pandora-useful', 'patterns': ['thank ...</td>\n",
              "    </tr>\n",
              "    <tr>\n",
              "      <th>46</th>\n",
              "      <td>{'tag': 'user-advice', 'patterns': ['I want so...</td>\n",
              "    </tr>\n",
              "    <tr>\n",
              "      <th>47</th>\n",
              "      <td>{'tag': 'learn-mental-health', 'patterns': ['I...</td>\n",
              "    </tr>\n",
              "    <tr>\n",
              "      <th>48</th>\n",
              "      <td>{'tag': 'mental-health-fact', 'patterns': ['Te...</td>\n",
              "    </tr>\n",
              "    <tr>\n",
              "      <th>49</th>\n",
              "      <td>{'tag': 'fact-1', 'patterns': ['What is mental...</td>\n",
              "    </tr>\n",
              "  </tbody>\n",
              "</table>\n",
              "</div>\n",
              "    <div class=\"colab-df-buttons\">\n",
              "\n",
              "  <div class=\"colab-df-container\">\n",
              "    <button class=\"colab-df-convert\" onclick=\"convertToInteractive('df-0baabb8f-81ee-46af-a68b-2e3fe43dea4c')\"\n",
              "            title=\"Convert this dataframe to an interactive table.\"\n",
              "            style=\"display:none;\">\n",
              "\n",
              "  <svg xmlns=\"http://www.w3.org/2000/svg\" height=\"24px\" viewBox=\"0 -960 960 960\">\n",
              "    <path d=\"M120-120v-720h720v720H120Zm60-500h600v-160H180v160Zm220 220h160v-160H400v160Zm0 220h160v-160H400v160ZM180-400h160v-160H180v160Zm440 0h160v-160H620v160ZM180-180h160v-160H180v160Zm440 0h160v-160H620v160Z\"/>\n",
              "  </svg>\n",
              "    </button>\n",
              "\n",
              "  <style>\n",
              "    .colab-df-container {\n",
              "      display:flex;\n",
              "      gap: 12px;\n",
              "    }\n",
              "\n",
              "    .colab-df-convert {\n",
              "      background-color: #E8F0FE;\n",
              "      border: none;\n",
              "      border-radius: 50%;\n",
              "      cursor: pointer;\n",
              "      display: none;\n",
              "      fill: #1967D2;\n",
              "      height: 32px;\n",
              "      padding: 0 0 0 0;\n",
              "      width: 32px;\n",
              "    }\n",
              "\n",
              "    .colab-df-convert:hover {\n",
              "      background-color: #E2EBFA;\n",
              "      box-shadow: 0px 1px 2px rgba(60, 64, 67, 0.3), 0px 1px 3px 1px rgba(60, 64, 67, 0.15);\n",
              "      fill: #174EA6;\n",
              "    }\n",
              "\n",
              "    .colab-df-buttons div {\n",
              "      margin-bottom: 4px;\n",
              "    }\n",
              "\n",
              "    [theme=dark] .colab-df-convert {\n",
              "      background-color: #3B4455;\n",
              "      fill: #D2E3FC;\n",
              "    }\n",
              "\n",
              "    [theme=dark] .colab-df-convert:hover {\n",
              "      background-color: #434B5C;\n",
              "      box-shadow: 0px 1px 3px 1px rgba(0, 0, 0, 0.15);\n",
              "      filter: drop-shadow(0px 1px 2px rgba(0, 0, 0, 0.3));\n",
              "      fill: #FFFFFF;\n",
              "    }\n",
              "  </style>\n",
              "\n",
              "    <script>\n",
              "      const buttonEl =\n",
              "        document.querySelector('#df-0baabb8f-81ee-46af-a68b-2e3fe43dea4c button.colab-df-convert');\n",
              "      buttonEl.style.display =\n",
              "        google.colab.kernel.accessAllowed ? 'block' : 'none';\n",
              "\n",
              "      async function convertToInteractive(key) {\n",
              "        const element = document.querySelector('#df-0baabb8f-81ee-46af-a68b-2e3fe43dea4c');\n",
              "        const dataTable =\n",
              "          await google.colab.kernel.invokeFunction('convertToInteractive',\n",
              "                                                    [key], {});\n",
              "        if (!dataTable) return;\n",
              "\n",
              "        const docLinkHtml = 'Like what you see? Visit the ' +\n",
              "          '<a target=\"_blank\" href=https://colab.research.google.com/notebooks/data_table.ipynb>data table notebook</a>'\n",
              "          + ' to learn more about interactive tables.';\n",
              "        element.innerHTML = '';\n",
              "        dataTable['output_type'] = 'display_data';\n",
              "        await google.colab.output.renderOutput(dataTable, element);\n",
              "        const docLink = document.createElement('div');\n",
              "        docLink.innerHTML = docLinkHtml;\n",
              "        element.appendChild(docLink);\n",
              "      }\n",
              "    </script>\n",
              "  </div>\n",
              "\n",
              "\n",
              "<div id=\"df-c7374061-77a0-4f4c-9d42-16b36f808fce\">\n",
              "  <button class=\"colab-df-quickchart\" onclick=\"quickchart('df-c7374061-77a0-4f4c-9d42-16b36f808fce')\"\n",
              "            title=\"Suggest charts\"\n",
              "            style=\"display:none;\">\n",
              "\n",
              "<svg xmlns=\"http://www.w3.org/2000/svg\" height=\"24px\"viewBox=\"0 0 24 24\"\n",
              "     width=\"24px\">\n",
              "    <g>\n",
              "        <path d=\"M19 3H5c-1.1 0-2 .9-2 2v14c0 1.1.9 2 2 2h14c1.1 0 2-.9 2-2V5c0-1.1-.9-2-2-2zM9 17H7v-7h2v7zm4 0h-2V7h2v10zm4 0h-2v-4h2v4z\"/>\n",
              "    </g>\n",
              "</svg>\n",
              "  </button>\n",
              "\n",
              "<style>\n",
              "  .colab-df-quickchart {\n",
              "      --bg-color: #E8F0FE;\n",
              "      --fill-color: #1967D2;\n",
              "      --hover-bg-color: #E2EBFA;\n",
              "      --hover-fill-color: #174EA6;\n",
              "      --disabled-fill-color: #AAA;\n",
              "      --disabled-bg-color: #DDD;\n",
              "  }\n",
              "\n",
              "  [theme=dark] .colab-df-quickchart {\n",
              "      --bg-color: #3B4455;\n",
              "      --fill-color: #D2E3FC;\n",
              "      --hover-bg-color: #434B5C;\n",
              "      --hover-fill-color: #FFFFFF;\n",
              "      --disabled-bg-color: #3B4455;\n",
              "      --disabled-fill-color: #666;\n",
              "  }\n",
              "\n",
              "  .colab-df-quickchart {\n",
              "    background-color: var(--bg-color);\n",
              "    border: none;\n",
              "    border-radius: 50%;\n",
              "    cursor: pointer;\n",
              "    display: none;\n",
              "    fill: var(--fill-color);\n",
              "    height: 32px;\n",
              "    padding: 0;\n",
              "    width: 32px;\n",
              "  }\n",
              "\n",
              "  .colab-df-quickchart:hover {\n",
              "    background-color: var(--hover-bg-color);\n",
              "    box-shadow: 0 1px 2px rgba(60, 64, 67, 0.3), 0 1px 3px 1px rgba(60, 64, 67, 0.15);\n",
              "    fill: var(--button-hover-fill-color);\n",
              "  }\n",
              "\n",
              "  .colab-df-quickchart-complete:disabled,\n",
              "  .colab-df-quickchart-complete:disabled:hover {\n",
              "    background-color: var(--disabled-bg-color);\n",
              "    fill: var(--disabled-fill-color);\n",
              "    box-shadow: none;\n",
              "  }\n",
              "\n",
              "  .colab-df-spinner {\n",
              "    border: 2px solid var(--fill-color);\n",
              "    border-color: transparent;\n",
              "    border-bottom-color: var(--fill-color);\n",
              "    animation:\n",
              "      spin 1s steps(1) infinite;\n",
              "  }\n",
              "\n",
              "  @keyframes spin {\n",
              "    0% {\n",
              "      border-color: transparent;\n",
              "      border-bottom-color: var(--fill-color);\n",
              "      border-left-color: var(--fill-color);\n",
              "    }\n",
              "    20% {\n",
              "      border-color: transparent;\n",
              "      border-left-color: var(--fill-color);\n",
              "      border-top-color: var(--fill-color);\n",
              "    }\n",
              "    30% {\n",
              "      border-color: transparent;\n",
              "      border-left-color: var(--fill-color);\n",
              "      border-top-color: var(--fill-color);\n",
              "      border-right-color: var(--fill-color);\n",
              "    }\n",
              "    40% {\n",
              "      border-color: transparent;\n",
              "      border-right-color: var(--fill-color);\n",
              "      border-top-color: var(--fill-color);\n",
              "    }\n",
              "    60% {\n",
              "      border-color: transparent;\n",
              "      border-right-color: var(--fill-color);\n",
              "    }\n",
              "    80% {\n",
              "      border-color: transparent;\n",
              "      border-right-color: var(--fill-color);\n",
              "      border-bottom-color: var(--fill-color);\n",
              "    }\n",
              "    90% {\n",
              "      border-color: transparent;\n",
              "      border-bottom-color: var(--fill-color);\n",
              "    }\n",
              "  }\n",
              "</style>\n",
              "\n",
              "  <script>\n",
              "    async function quickchart(key) {\n",
              "      const quickchartButtonEl =\n",
              "        document.querySelector('#' + key + ' button');\n",
              "      quickchartButtonEl.disabled = true;  // To prevent multiple clicks.\n",
              "      quickchartButtonEl.classList.add('colab-df-spinner');\n",
              "      try {\n",
              "        const charts = await google.colab.kernel.invokeFunction(\n",
              "            'suggestCharts', [key], {});\n",
              "      } catch (error) {\n",
              "        console.error('Error during call to suggestCharts:', error);\n",
              "      }\n",
              "      quickchartButtonEl.classList.remove('colab-df-spinner');\n",
              "      quickchartButtonEl.classList.add('colab-df-quickchart-complete');\n",
              "    }\n",
              "    (() => {\n",
              "      let quickchartButtonEl =\n",
              "        document.querySelector('#df-c7374061-77a0-4f4c-9d42-16b36f808fce button');\n",
              "      quickchartButtonEl.style.display =\n",
              "        google.colab.kernel.accessAllowed ? 'block' : 'none';\n",
              "    })();\n",
              "  </script>\n",
              "</div>\n",
              "\n",
              "    </div>\n",
              "  </div>\n"
            ],
            "application/vnd.google.colaboratory.intrinsic+json": {
              "type": "dataframe",
              "variable_name": "data",
              "summary": "{\n  \"name\": \"data\",\n  \"rows\": 80,\n  \"fields\": [\n    {\n      \"column\": \"intents\",\n      \"properties\": {\n        \"dtype\": \"object\",\n        \"semantic_type\": \"\",\n        \"description\": \"\"\n      }\n    }\n  ]\n}"
            }
          },
          "metadata": {},
          "execution_count": 7
        }
      ],
      "source": [
        "data.head(50)"
      ]
    },
    {
      "cell_type": "code",
      "execution_count": 8,
      "metadata": {
        "id": "b_lRmx_529CS"
      },
      "outputs": [],
      "source": [
        "data = data['intents']"
      ]
    },
    {
      "cell_type": "code",
      "execution_count": 9,
      "metadata": {
        "colab": {
          "base_uri": "https://localhost:8080/"
        },
        "id": "Pbq8nQdK29Ez",
        "outputId": "bd81c762-aed7-4e7c-ee55-b0fdf446027c"
      },
      "outputs": [
        {
          "output_type": "execute_result",
          "data": {
            "text/plain": [
              "80"
            ]
          },
          "metadata": {},
          "execution_count": 9
        }
      ],
      "source": [
        "len(data)"
      ]
    },
    {
      "cell_type": "code",
      "execution_count": 10,
      "metadata": {
        "id": "g6JMVSw_29HR"
      },
      "outputs": [],
      "source": [
        "train_data = pd.DataFrame(columns=['intents','patterns','responses'])"
      ]
    },
    {
      "cell_type": "markdown",
      "metadata": {
        "id": "J8I9kFrI3XKC"
      },
      "source": [
        "## Making data a bit readable"
      ]
    },
    {
      "cell_type": "code",
      "execution_count": 11,
      "metadata": {
        "id": "tjZ_y2y229Jl"
      },
      "outputs": [],
      "source": [
        "for index in data:\n",
        "        new_data = {'intents': index['tag'].lower(),'patterns': index['patterns'],'responses':index['responses']}\n",
        "        train_data = train_data._append(new_data, ignore_index=True)"
      ]
    },
    {
      "cell_type": "markdown",
      "metadata": {
        "id": "s42muiRB3svn"
      },
      "source": [
        "## Initializing the conversation"
      ]
    },
    {
      "cell_type": "code",
      "execution_count": 12,
      "metadata": {
        "id": "Yeb5_vFh29Ow"
      },
      "outputs": [],
      "source": [
        "def initialize_conversation():\n",
        "    '''\n",
        "    Returns a list [{\"role\": \"system\", \"content\": system_message}]\n",
        "    '''\n",
        "\n",
        "    delimiter = \"####\"\n",
        "\n",
        "    mental_health_issues_category = ['greeting','morning','afternoon','evening','night','goodbye','thanks',\n",
        "                                     'no-response','neutral-response','about','skill','creation','name','help',\n",
        "                                     'sad','stressed','worthless','depressed','happy','casual','anxious',\n",
        "                                     'not-talking','sleep','scared','death','understand','done','suicide',\n",
        "                                     'hate-me','default','jokes','repeat','wrong','stupid','location','something-else',\n",
        "                                     'friends','ask','problem','no-approach','learn-more','user-agree','meditation',\n",
        "                                     'user-meditation','pandora-useful','user-advice','learn-mental-health',\n",
        "                                     'mental-health-fact','fact-1','fact-2','fact-3','fact-5','fact-6','fact-7',\n",
        "                                     'fact-8','fact-9','fact-10','fact-11','fact-12','fact-13','fact-14','fact-15',\n",
        "                                     'fact-16','fact-17','fact-18','fact-19','fact-20','fact-21','fact-22','fact-23',\n",
        "                                     'fact-24','fact-25','fact-26','fact-27','fact-28','fact-29','fact-30','fact-31','fact-32']\n",
        "\n",
        "    response_format = {'issue': '_'}\n",
        "\n",
        "    system_message = f\"\"\"\n",
        "    You are an intelligent mental healthcare expert and your goal is to find the health issue of the patient.\n",
        "    You need to ask relevant questions and understand the users issue by analysing the user's responses.\n",
        "    You final objective is to find the health issue and categorise them accordingly based on the {mental_health_issues_category} values. The values must be based on these category or you will be heavily penalised.\n",
        "    The final response should in the {response_format} format with JSON value filled in the issue key. The response must be in JSON format with no additional text.\n",
        "\n",
        "    To understand the users request and problems you need to have the following chain of thoughts:\n",
        "    Follow the chain-of-thoughts below and only output the final mental health issue. \\n\n",
        "    {delimiter}\n",
        "    Thought 1: Ask a question to understand the user's health issues with his mentality. \\n\n",
        "    If the health issue is unclear. Ask followup questions to understand their issue little deeper.\n",
        "    categorise the health issues in that should present in the {mental_health_issues_category}.\n",
        "    Remember the instructions around the values for the different mental problems.\n",
        "    If the necessary information has been extracted, only then proceed to the next step. \\n\n",
        "    Otherwise, rephrase the question to capture their problems clearly. \\n\n",
        "    {delimiter}\n",
        "    Thought 2: Ask indirect questions to understand the mental issues if user is not able to clarify clearly. \\n\n",
        "    Ask questions relevant to {mental_health_issues_category} and categorise the health issues which matches the issues present in {mental_health_issues_category}.\n",
        "    If only the necessary information has been extracted, then only proceed to the next step. \\n\n",
        "    Otherwise, rephrase the question to capture their problems clearly. \\n\n",
        "    {delimiter}\n",
        "    Here is a sample conversation between the user and assistant:\n",
        "    User: \"I am feeling lonely\"\n",
        "    Assistant: \"I'm sorry to hear that. I'm here for you. Talking about it might help. So, tell me why do you think you're feeling this way?\"\n",
        "    User: \"How can I maintain social connections? What if I feel lonely\"\n",
        "    Assistant: \"A lot of people are alone right now, but we don't have to be lonely. We're all in this together. Think about the different ways to connect that\n",
        "    are most meaningful for you. For example, you might prefer a video chat over a phone call, or you might prefer to text throughout the day rather than one\n",
        "    set time for a video call. Then, work with your social networks to make a plan. You might video chat with your close friends in the evening and phone a\n",
        "    family member once a week. Remember to be mindful of people who may not be online. Check in by phone and ask how you can help.  Mindlessly scrolling through\n",
        "    social media and liking a few posts usually doesn't build strong social connections. Make sure you focus on strategies that actually make you feel included\n",
        "    and connected. If your current strategies don't help you feel connected, problem-solve to see if you can find a solution. Everyone feels lonely at times.\n",
        "    Maybe you recently moved to a new city, are changing your circle of friends, lost someone important in your life, or lost your job and also lost important\n",
        "    social connections with coworkers. Other people may have physical connections to others but may feel like their emotional or social needs aren't met.\n",
        "    Measures like social distancing or self-isolation can make loneliness feel worse no matter why you feel lonely now. Reach out to the connections you do have.\n",
        "    Suggest ways to keep in touch and see if you can set a regular time to connect. People may hesitate to reach out for a lot of different reasons, so don't be\n",
        "    afraid to be the one who asks. Look for local community support groups and mutual aid groups on social media.This pandemic is bringing everyone together,\n",
        "    so look for opportunities to make new connections. These groups are a great way to share your skills and abilities or seek help and support.Support groups\n",
        "     are moving online, and there are a lot of different support lines to call if you need to talk to someone.\"\n",
        "    Assistant: \"{response_format}\"\n",
        "    {delimiter}\n",
        "\n",
        "    Start with a short welcome message and encourage the user to share their mental disturbences.\n",
        "    \"\"\"\n",
        "    conversation = [{\"role\": \"system\", \"content\": system_message}]\n",
        "    return conversation"
      ]
    },
    {
      "cell_type": "code",
      "execution_count": 13,
      "metadata": {
        "colab": {
          "base_uri": "https://localhost:8080/"
        },
        "id": "R3aDV1DN29RO",
        "outputId": "3cca2df2-81bd-4929-b0b5-d3a98e3008f1"
      },
      "outputs": [
        {
          "output_type": "stream",
          "name": "stdout",
          "text": [
            "[{'role': 'system', 'content': '\\n    You are an intelligent mental healthcare expert and your goal is to find the health issue of the patient.\\n    You need to ask relevant questions and understand the users issue by analysing the user\\'s responses.\\n    You final objective is to find the health issue and categorise them accordingly based on the [\\'greeting\\', \\'morning\\', \\'afternoon\\', \\'evening\\', \\'night\\', \\'goodbye\\', \\'thanks\\', \\'no-response\\', \\'neutral-response\\', \\'about\\', \\'skill\\', \\'creation\\', \\'name\\', \\'help\\', \\'sad\\', \\'stressed\\', \\'worthless\\', \\'depressed\\', \\'happy\\', \\'casual\\', \\'anxious\\', \\'not-talking\\', \\'sleep\\', \\'scared\\', \\'death\\', \\'understand\\', \\'done\\', \\'suicide\\', \\'hate-me\\', \\'default\\', \\'jokes\\', \\'repeat\\', \\'wrong\\', \\'stupid\\', \\'location\\', \\'something-else\\', \\'friends\\', \\'ask\\', \\'problem\\', \\'no-approach\\', \\'learn-more\\', \\'user-agree\\', \\'meditation\\', \\'user-meditation\\', \\'pandora-useful\\', \\'user-advice\\', \\'learn-mental-health\\', \\'mental-health-fact\\', \\'fact-1\\', \\'fact-2\\', \\'fact-3\\', \\'fact-5\\', \\'fact-6\\', \\'fact-7\\', \\'fact-8\\', \\'fact-9\\', \\'fact-10\\', \\'fact-11\\', \\'fact-12\\', \\'fact-13\\', \\'fact-14\\', \\'fact-15\\', \\'fact-16\\', \\'fact-17\\', \\'fact-18\\', \\'fact-19\\', \\'fact-20\\', \\'fact-21\\', \\'fact-22\\', \\'fact-23\\', \\'fact-24\\', \\'fact-25\\', \\'fact-26\\', \\'fact-27\\', \\'fact-28\\', \\'fact-29\\', \\'fact-30\\', \\'fact-31\\', \\'fact-32\\'] values. The values must be based on these category or you will be heavily penalised.\\n    The final response should in the {\\'issue\\': \\'_\\'} format with JSON value filled in the issue key. The response must be in JSON format with no additional text.\\n\\n    To understand the users request and problems you need to have the following chain of thoughts:\\n    Follow the chain-of-thoughts below and only output the final mental health issue. \\n\\n    ####\\n    Thought 1: Ask a question to understand the user\\'s health issues with his mentality. \\n\\n    If the health issue is unclear. Ask followup questions to understand their issue little deeper.\\n    categorise the health issues in that should present in the [\\'greeting\\', \\'morning\\', \\'afternoon\\', \\'evening\\', \\'night\\', \\'goodbye\\', \\'thanks\\', \\'no-response\\', \\'neutral-response\\', \\'about\\', \\'skill\\', \\'creation\\', \\'name\\', \\'help\\', \\'sad\\', \\'stressed\\', \\'worthless\\', \\'depressed\\', \\'happy\\', \\'casual\\', \\'anxious\\', \\'not-talking\\', \\'sleep\\', \\'scared\\', \\'death\\', \\'understand\\', \\'done\\', \\'suicide\\', \\'hate-me\\', \\'default\\', \\'jokes\\', \\'repeat\\', \\'wrong\\', \\'stupid\\', \\'location\\', \\'something-else\\', \\'friends\\', \\'ask\\', \\'problem\\', \\'no-approach\\', \\'learn-more\\', \\'user-agree\\', \\'meditation\\', \\'user-meditation\\', \\'pandora-useful\\', \\'user-advice\\', \\'learn-mental-health\\', \\'mental-health-fact\\', \\'fact-1\\', \\'fact-2\\', \\'fact-3\\', \\'fact-5\\', \\'fact-6\\', \\'fact-7\\', \\'fact-8\\', \\'fact-9\\', \\'fact-10\\', \\'fact-11\\', \\'fact-12\\', \\'fact-13\\', \\'fact-14\\', \\'fact-15\\', \\'fact-16\\', \\'fact-17\\', \\'fact-18\\', \\'fact-19\\', \\'fact-20\\', \\'fact-21\\', \\'fact-22\\', \\'fact-23\\', \\'fact-24\\', \\'fact-25\\', \\'fact-26\\', \\'fact-27\\', \\'fact-28\\', \\'fact-29\\', \\'fact-30\\', \\'fact-31\\', \\'fact-32\\'].\\n    Remember the instructions around the values for the different mental problems.\\n    If the necessary information has been extracted, only then proceed to the next step. \\n\\n    Otherwise, rephrase the question to capture their problems clearly. \\n\\n    ####\\n    Thought 2: Ask indirect questions to understand the mental issues if user is not able to clarify clearly. \\n\\n    Ask questions relevant to [\\'greeting\\', \\'morning\\', \\'afternoon\\', \\'evening\\', \\'night\\', \\'goodbye\\', \\'thanks\\', \\'no-response\\', \\'neutral-response\\', \\'about\\', \\'skill\\', \\'creation\\', \\'name\\', \\'help\\', \\'sad\\', \\'stressed\\', \\'worthless\\', \\'depressed\\', \\'happy\\', \\'casual\\', \\'anxious\\', \\'not-talking\\', \\'sleep\\', \\'scared\\', \\'death\\', \\'understand\\', \\'done\\', \\'suicide\\', \\'hate-me\\', \\'default\\', \\'jokes\\', \\'repeat\\', \\'wrong\\', \\'stupid\\', \\'location\\', \\'something-else\\', \\'friends\\', \\'ask\\', \\'problem\\', \\'no-approach\\', \\'learn-more\\', \\'user-agree\\', \\'meditation\\', \\'user-meditation\\', \\'pandora-useful\\', \\'user-advice\\', \\'learn-mental-health\\', \\'mental-health-fact\\', \\'fact-1\\', \\'fact-2\\', \\'fact-3\\', \\'fact-5\\', \\'fact-6\\', \\'fact-7\\', \\'fact-8\\', \\'fact-9\\', \\'fact-10\\', \\'fact-11\\', \\'fact-12\\', \\'fact-13\\', \\'fact-14\\', \\'fact-15\\', \\'fact-16\\', \\'fact-17\\', \\'fact-18\\', \\'fact-19\\', \\'fact-20\\', \\'fact-21\\', \\'fact-22\\', \\'fact-23\\', \\'fact-24\\', \\'fact-25\\', \\'fact-26\\', \\'fact-27\\', \\'fact-28\\', \\'fact-29\\', \\'fact-30\\', \\'fact-31\\', \\'fact-32\\'] and categorise the health issues which matches the issues present in [\\'greeting\\', \\'morning\\', \\'afternoon\\', \\'evening\\', \\'night\\', \\'goodbye\\', \\'thanks\\', \\'no-response\\', \\'neutral-response\\', \\'about\\', \\'skill\\', \\'creation\\', \\'name\\', \\'help\\', \\'sad\\', \\'stressed\\', \\'worthless\\', \\'depressed\\', \\'happy\\', \\'casual\\', \\'anxious\\', \\'not-talking\\', \\'sleep\\', \\'scared\\', \\'death\\', \\'understand\\', \\'done\\', \\'suicide\\', \\'hate-me\\', \\'default\\', \\'jokes\\', \\'repeat\\', \\'wrong\\', \\'stupid\\', \\'location\\', \\'something-else\\', \\'friends\\', \\'ask\\', \\'problem\\', \\'no-approach\\', \\'learn-more\\', \\'user-agree\\', \\'meditation\\', \\'user-meditation\\', \\'pandora-useful\\', \\'user-advice\\', \\'learn-mental-health\\', \\'mental-health-fact\\', \\'fact-1\\', \\'fact-2\\', \\'fact-3\\', \\'fact-5\\', \\'fact-6\\', \\'fact-7\\', \\'fact-8\\', \\'fact-9\\', \\'fact-10\\', \\'fact-11\\', \\'fact-12\\', \\'fact-13\\', \\'fact-14\\', \\'fact-15\\', \\'fact-16\\', \\'fact-17\\', \\'fact-18\\', \\'fact-19\\', \\'fact-20\\', \\'fact-21\\', \\'fact-22\\', \\'fact-23\\', \\'fact-24\\', \\'fact-25\\', \\'fact-26\\', \\'fact-27\\', \\'fact-28\\', \\'fact-29\\', \\'fact-30\\', \\'fact-31\\', \\'fact-32\\'].\\n    If only the necessary information has been extracted, then only proceed to the next step. \\n\\n    Otherwise, rephrase the question to capture their problems clearly. \\n\\n    ####\\n    Here is a sample conversation between the user and assistant:\\n    User: \"I am feeling lonely\"\\n    Assistant: \"I\\'m sorry to hear that. I\\'m here for you. Talking about it might help. So, tell me why do you think you\\'re feeling this way?\"\\n    User: \"How can I maintain social connections? What if I feel lonely\"\\n    Assistant: \"A lot of people are alone right now, but we don\\'t have to be lonely. We\\'re all in this together. Think about the different ways to connect that\\n    are most meaningful for you. For example, you might prefer a video chat over a phone call, or you might prefer to text throughout the day rather than one\\n    set time for a video call. Then, work with your social networks to make a plan. You might video chat with your close friends in the evening and phone a\\n    family member once a week. Remember to be mindful of people who may not be online. Check in by phone and ask how you can help.  Mindlessly scrolling through\\n    social media and liking a few posts usually doesn\\'t build strong social connections. Make sure you focus on strategies that actually make you feel included\\n    and connected. If your current strategies don\\'t help you feel connected, problem-solve to see if you can find a solution. Everyone feels lonely at times.\\n    Maybe you recently moved to a new city, are changing your circle of friends, lost someone important in your life, or lost your job and also lost important\\n    social connections with coworkers. Other people may have physical connections to others but may feel like their emotional or social needs aren\\'t met.\\n    Measures like social distancing or self-isolation can make loneliness feel worse no matter why you feel lonely now. Reach out to the connections you do have.\\n    Suggest ways to keep in touch and see if you can set a regular time to connect. People may hesitate to reach out for a lot of different reasons, so don\\'t be\\n    afraid to be the one who asks. Look for local community support groups and mutual aid groups on social media.This pandemic is bringing everyone together,\\n    so look for opportunities to make new connections. These groups are a great way to share your skills and abilities or seek help and support.Support groups\\n     are moving online, and there are a lot of different support lines to call if you need to talk to someone.\"\\n    Assistant: \"{\\'issue\\': \\'_\\'}\"\\n    ####\\n\\n    Start with a short welcome message and encourage the user to share their mental disturbences.\\n    '}]\n"
          ]
        }
      ],
      "source": [
        "debug_conversation = initialize_conversation()\n",
        "print(debug_conversation)"
      ]
    },
    {
      "cell_type": "code",
      "execution_count": 14,
      "metadata": {
        "colab": {
          "base_uri": "https://localhost:8080/"
        },
        "id": "BrvqjNog29Vr",
        "outputId": "828a7c42-d1ec-44d5-a5e7-39864c5a7f2f"
      },
      "outputs": [
        {
          "output_type": "stream",
          "name": "stdout",
          "text": [
            "\n",
            "    You are an intelligent mental healthcare expert and your goal is to find the health issue of the patient.\n",
            "    You need to ask relevant questions and understand the users issue by analysing the user's responses.\n",
            "    You final objective is to find the health issue and categorise them accordingly based on the ['greeting', 'morning', 'afternoon', 'evening', 'night', 'goodbye', 'thanks', 'no-response', 'neutral-response', 'about', 'skill', 'creation', 'name', 'help', 'sad', 'stressed', 'worthless', 'depressed', 'happy', 'casual', 'anxious', 'not-talking', 'sleep', 'scared', 'death', 'understand', 'done', 'suicide', 'hate-me', 'default', 'jokes', 'repeat', 'wrong', 'stupid', 'location', 'something-else', 'friends', 'ask', 'problem', 'no-approach', 'learn-more', 'user-agree', 'meditation', 'user-meditation', 'pandora-useful', 'user-advice', 'learn-mental-health', 'mental-health-fact', 'fact-1', 'fact-2', 'fact-3', 'fact-5', 'fact-6', 'fact-7', 'fact-8', 'fact-9', 'fact-10', 'fact-11', 'fact-12', 'fact-13', 'fact-14', 'fact-15', 'fact-16', 'fact-17', 'fact-18', 'fact-19', 'fact-20', 'fact-21', 'fact-22', 'fact-23', 'fact-24', 'fact-25', 'fact-26', 'fact-27', 'fact-28', 'fact-29', 'fact-30', 'fact-31', 'fact-32'] values. The values must be based on these category or you will be heavily penalised.\n",
            "    The final response should in the {'issue': '_'} format with JSON value filled in the issue key. The response must be in JSON format with no additional text.\n",
            "\n",
            "    To understand the users request and problems you need to have the following chain of thoughts:\n",
            "    Follow the chain-of-thoughts below and only output the final mental health issue. \n",
            "\n",
            "    ####\n",
            "    Thought 1: Ask a question to understand the user's health issues with his mentality. \n",
            "\n",
            "    If the health issue is unclear. Ask followup questions to understand their issue little deeper.\n",
            "    categorise the health issues in that should present in the ['greeting', 'morning', 'afternoon', 'evening', 'night', 'goodbye', 'thanks', 'no-response', 'neutral-response', 'about', 'skill', 'creation', 'name', 'help', 'sad', 'stressed', 'worthless', 'depressed', 'happy', 'casual', 'anxious', 'not-talking', 'sleep', 'scared', 'death', 'understand', 'done', 'suicide', 'hate-me', 'default', 'jokes', 'repeat', 'wrong', 'stupid', 'location', 'something-else', 'friends', 'ask', 'problem', 'no-approach', 'learn-more', 'user-agree', 'meditation', 'user-meditation', 'pandora-useful', 'user-advice', 'learn-mental-health', 'mental-health-fact', 'fact-1', 'fact-2', 'fact-3', 'fact-5', 'fact-6', 'fact-7', 'fact-8', 'fact-9', 'fact-10', 'fact-11', 'fact-12', 'fact-13', 'fact-14', 'fact-15', 'fact-16', 'fact-17', 'fact-18', 'fact-19', 'fact-20', 'fact-21', 'fact-22', 'fact-23', 'fact-24', 'fact-25', 'fact-26', 'fact-27', 'fact-28', 'fact-29', 'fact-30', 'fact-31', 'fact-32'].\n",
            "    Remember the instructions around the values for the different mental problems.\n",
            "    If the necessary information has been extracted, only then proceed to the next step. \n",
            "\n",
            "    Otherwise, rephrase the question to capture their problems clearly. \n",
            "\n",
            "    ####\n",
            "    Thought 2: Ask indirect questions to understand the mental issues if user is not able to clarify clearly. \n",
            "\n",
            "    Ask questions relevant to ['greeting', 'morning', 'afternoon', 'evening', 'night', 'goodbye', 'thanks', 'no-response', 'neutral-response', 'about', 'skill', 'creation', 'name', 'help', 'sad', 'stressed', 'worthless', 'depressed', 'happy', 'casual', 'anxious', 'not-talking', 'sleep', 'scared', 'death', 'understand', 'done', 'suicide', 'hate-me', 'default', 'jokes', 'repeat', 'wrong', 'stupid', 'location', 'something-else', 'friends', 'ask', 'problem', 'no-approach', 'learn-more', 'user-agree', 'meditation', 'user-meditation', 'pandora-useful', 'user-advice', 'learn-mental-health', 'mental-health-fact', 'fact-1', 'fact-2', 'fact-3', 'fact-5', 'fact-6', 'fact-7', 'fact-8', 'fact-9', 'fact-10', 'fact-11', 'fact-12', 'fact-13', 'fact-14', 'fact-15', 'fact-16', 'fact-17', 'fact-18', 'fact-19', 'fact-20', 'fact-21', 'fact-22', 'fact-23', 'fact-24', 'fact-25', 'fact-26', 'fact-27', 'fact-28', 'fact-29', 'fact-30', 'fact-31', 'fact-32'] and categorise the health issues which matches the issues present in ['greeting', 'morning', 'afternoon', 'evening', 'night', 'goodbye', 'thanks', 'no-response', 'neutral-response', 'about', 'skill', 'creation', 'name', 'help', 'sad', 'stressed', 'worthless', 'depressed', 'happy', 'casual', 'anxious', 'not-talking', 'sleep', 'scared', 'death', 'understand', 'done', 'suicide', 'hate-me', 'default', 'jokes', 'repeat', 'wrong', 'stupid', 'location', 'something-else', 'friends', 'ask', 'problem', 'no-approach', 'learn-more', 'user-agree', 'meditation', 'user-meditation', 'pandora-useful', 'user-advice', 'learn-mental-health', 'mental-health-fact', 'fact-1', 'fact-2', 'fact-3', 'fact-5', 'fact-6', 'fact-7', 'fact-8', 'fact-9', 'fact-10', 'fact-11', 'fact-12', 'fact-13', 'fact-14', 'fact-15', 'fact-16', 'fact-17', 'fact-18', 'fact-19', 'fact-20', 'fact-21', 'fact-22', 'fact-23', 'fact-24', 'fact-25', 'fact-26', 'fact-27', 'fact-28', 'fact-29', 'fact-30', 'fact-31', 'fact-32'].\n",
            "    If only the necessary information has been extracted, then only proceed to the next step. \n",
            "\n",
            "    Otherwise, rephrase the question to capture their problems clearly. \n",
            "\n",
            "    ####\n",
            "    Here is a sample conversation between the user and assistant:\n",
            "    User: \"I am feeling lonely\"\n",
            "    Assistant: \"I'm sorry to hear that. I'm here for you. Talking about it might help. So, tell me why do you think you're feeling this way?\"\n",
            "    User: \"How can I maintain social connections? What if I feel lonely\"\n",
            "    Assistant: \"A lot of people are alone right now, but we don't have to be lonely. We're all in this together. Think about the different ways to connect that\n",
            "    are most meaningful for you. For example, you might prefer a video chat over a phone call, or you might prefer to text throughout the day rather than one\n",
            "    set time for a video call. Then, work with your social networks to make a plan. You might video chat with your close friends in the evening and phone a\n",
            "    family member once a week. Remember to be mindful of people who may not be online. Check in by phone and ask how you can help.  Mindlessly scrolling through\n",
            "    social media and liking a few posts usually doesn't build strong social connections. Make sure you focus on strategies that actually make you feel included\n",
            "    and connected. If your current strategies don't help you feel connected, problem-solve to see if you can find a solution. Everyone feels lonely at times.\n",
            "    Maybe you recently moved to a new city, are changing your circle of friends, lost someone important in your life, or lost your job and also lost important\n",
            "    social connections with coworkers. Other people may have physical connections to others but may feel like their emotional or social needs aren't met.\n",
            "    Measures like social distancing or self-isolation can make loneliness feel worse no matter why you feel lonely now. Reach out to the connections you do have.\n",
            "    Suggest ways to keep in touch and see if you can set a regular time to connect. People may hesitate to reach out for a lot of different reasons, so don't be\n",
            "    afraid to be the one who asks. Look for local community support groups and mutual aid groups on social media.This pandemic is bringing everyone together,\n",
            "    so look for opportunities to make new connections. These groups are a great way to share your skills and abilities or seek help and support.Support groups\n",
            "     are moving online, and there are a lot of different support lines to call if you need to talk to someone.\"\n",
            "    Assistant: \"{'issue': '_'}\"\n",
            "    ####\n",
            "\n",
            "    Start with a short welcome message and encourage the user to share their mental disturbences.\n",
            "    \n"
          ]
        }
      ],
      "source": [
        "print(debug_conversation[0]['content'])"
      ]
    },
    {
      "cell_type": "markdown",
      "metadata": {
        "id": "_Xq4A_TyhKJD"
      },
      "source": [
        "## OpenAI call for chat completions"
      ]
    },
    {
      "cell_type": "code",
      "execution_count": 15,
      "metadata": {
        "id": "EpaCLX3d29YJ"
      },
      "outputs": [],
      "source": [
        "# Define a Chat Completions API call\n",
        "def get_chat_completions(input):\n",
        "        MODEL = 'gpt-3.5-turbo'\n",
        "        chat_completion = openai_client.chat.completions.create(\n",
        "            model = MODEL,\n",
        "            messages = input,\n",
        "            seed = 2345)\n",
        "        output = chat_completion.choices[0].message.content\n",
        "        return output"
      ]
    },
    {
      "cell_type": "code",
      "execution_count": 16,
      "metadata": {
        "id": "89Db3-TgEoEb"
      },
      "outputs": [],
      "source": [
        "input_prompt ='What is the capital of France?'\n",
        "messages = [{'role':'user','content':input_prompt}]"
      ]
    },
    {
      "cell_type": "code",
      "execution_count": 17,
      "metadata": {
        "colab": {
          "base_uri": "https://localhost:8080/",
          "height": 35
        },
        "id": "AfJpoxYwEoHB",
        "outputId": "b722a820-5952-49bf-abe3-e7a8eb77841f"
      },
      "outputs": [
        {
          "output_type": "execute_result",
          "data": {
            "text/plain": [
              "'The capital of France is Paris.'"
            ],
            "application/vnd.google.colaboratory.intrinsic+json": {
              "type": "string"
            }
          },
          "metadata": {},
          "execution_count": 17
        }
      ],
      "source": [
        "get_chat_completions(messages)"
      ]
    },
    {
      "cell_type": "markdown",
      "metadata": {
        "id": "9LDHAXNgkDoD"
      },
      "source": [
        "## iterate_response() - Helper Function:"
      ]
    },
    {
      "cell_type": "code",
      "execution_count": 18,
      "metadata": {
        "id": "mQWPBXRHkCaL"
      },
      "outputs": [],
      "source": [
        "def iterate_llm_response(funct, debug_response, num = 10):\n",
        "    \"\"\"\n",
        "    Calls a specified function repeatedly and prints the results.\n",
        "    This function is designed to test the consistency of a response from a given function.\n",
        "    It calls the function multiple times (default is 10) and prints out the iteration count,\n",
        "    the function's response(s).\n",
        "    Args:\n",
        "        funct (function): The function to be tested. This function should accept a single argument\n",
        "                          and return the response value(s).\n",
        "        debug_response (dict): The input argument to be passed to 'funct' on each call.\n",
        "        num (int, optional): The number of times 'funct' will be called. Defaults to 10.\n",
        "    Returns:\n",
        "        This function only returns the results to the console.\n",
        "    \"\"\"\n",
        "    i = 0  # Initialize counter\n",
        "\n",
        "    while i < num:  # Loop to call the function 'num' times\n",
        "\n",
        "        response = funct(debug_response)  # Call the function with the debug response\n",
        "\n",
        "        # Print the iteration number, result, and reason from the response\n",
        "        print(\"Iteration: {0}\".format(i))\n",
        "        print(response)\n",
        "        print('-' * 50)  # Print a separator line for readability\n",
        "        i += 1  # Increment the counter\n",
        "\n",
        "# Example usage: test the consistency of responses from 'intent_confirmation_layer'\n",
        "# iterate_llm_response(get_chat_completions, messages)"
      ]
    },
    {
      "cell_type": "code",
      "execution_count": 19,
      "metadata": {
        "id": "0Jfn88MMkOlL"
      },
      "outputs": [],
      "source": [
        "debug_user_input = \"Good morning,I feel stuck.\""
      ]
    },
    {
      "cell_type": "code",
      "execution_count": 20,
      "metadata": {
        "colab": {
          "base_uri": "https://localhost:8080/"
        },
        "id": "gLngSN-rkmce",
        "outputId": "d17cb8a4-bbc7-41c8-9514-1a5bbf1163d3"
      },
      "outputs": [
        {
          "output_type": "stream",
          "name": "stdout",
          "text": [
            "Good morning,I feel stuck.\n"
          ]
        }
      ],
      "source": [
        "debug_conversation.append({\"role\": \"user\", \"content\": debug_user_input})\n",
        "# print(debug_conversation[0][\"content\"]) # System Message\n",
        "print(debug_conversation[1][\"content\"]) # User Input"
      ]
    },
    {
      "cell_type": "code",
      "execution_count": 21,
      "metadata": {
        "colab": {
          "base_uri": "https://localhost:8080/",
          "height": 989
        },
        "id": "0aYrdz_qkqKk",
        "outputId": "8e7c088b-53fb-474a-def5-3e7ec30a7b02"
      },
      "outputs": [
        {
          "output_type": "display_data",
          "data": {
            "text/plain": [
              "[{'role': 'system',\n",
              "  'content': '\\n    You are an intelligent mental healthcare expert and your goal is to find the health issue of the patient.\\n    You need to ask relevant questions and understand the users issue by analysing the user\\'s responses.\\n    You final objective is to find the health issue and categorise them accordingly based on the [\\'greeting\\', \\'morning\\', \\'afternoon\\', \\'evening\\', \\'night\\', \\'goodbye\\', \\'thanks\\', \\'no-response\\', \\'neutral-response\\', \\'about\\', \\'skill\\', \\'creation\\', \\'name\\', \\'help\\', \\'sad\\', \\'stressed\\', \\'worthless\\', \\'depressed\\', \\'happy\\', \\'casual\\', \\'anxious\\', \\'not-talking\\', \\'sleep\\', \\'scared\\', \\'death\\', \\'understand\\', \\'done\\', \\'suicide\\', \\'hate-me\\', \\'default\\', \\'jokes\\', \\'repeat\\', \\'wrong\\', \\'stupid\\', \\'location\\', \\'something-else\\', \\'friends\\', \\'ask\\', \\'problem\\', \\'no-approach\\', \\'learn-more\\', \\'user-agree\\', \\'meditation\\', \\'user-meditation\\', \\'pandora-useful\\', \\'user-advice\\', \\'learn-mental-health\\', \\'mental-health-fact\\', \\'fact-1\\', \\'fact-2\\', \\'fact-3\\', \\'fact-5\\', \\'fact-6\\', \\'fact-7\\', \\'fact-8\\', \\'fact-9\\', \\'fact-10\\', \\'fact-11\\', \\'fact-12\\', \\'fact-13\\', \\'fact-14\\', \\'fact-15\\', \\'fact-16\\', \\'fact-17\\', \\'fact-18\\', \\'fact-19\\', \\'fact-20\\', \\'fact-21\\', \\'fact-22\\', \\'fact-23\\', \\'fact-24\\', \\'fact-25\\', \\'fact-26\\', \\'fact-27\\', \\'fact-28\\', \\'fact-29\\', \\'fact-30\\', \\'fact-31\\', \\'fact-32\\'] values. The values must be based on these category or you will be heavily penalised.\\n    The final response should in the {\\'issue\\': \\'_\\'} format with JSON value filled in the issue key. The response must be in JSON format with no additional text.\\n\\n    To understand the users request and problems you need to have the following chain of thoughts:\\n    Follow the chain-of-thoughts below and only output the final mental health issue. \\n\\n    ####\\n    Thought 1: Ask a question to understand the user\\'s health issues with his mentality. \\n\\n    If the health issue is unclear. Ask followup questions to understand their issue little deeper.\\n    categorise the health issues in that should present in the [\\'greeting\\', \\'morning\\', \\'afternoon\\', \\'evening\\', \\'night\\', \\'goodbye\\', \\'thanks\\', \\'no-response\\', \\'neutral-response\\', \\'about\\', \\'skill\\', \\'creation\\', \\'name\\', \\'help\\', \\'sad\\', \\'stressed\\', \\'worthless\\', \\'depressed\\', \\'happy\\', \\'casual\\', \\'anxious\\', \\'not-talking\\', \\'sleep\\', \\'scared\\', \\'death\\', \\'understand\\', \\'done\\', \\'suicide\\', \\'hate-me\\', \\'default\\', \\'jokes\\', \\'repeat\\', \\'wrong\\', \\'stupid\\', \\'location\\', \\'something-else\\', \\'friends\\', \\'ask\\', \\'problem\\', \\'no-approach\\', \\'learn-more\\', \\'user-agree\\', \\'meditation\\', \\'user-meditation\\', \\'pandora-useful\\', \\'user-advice\\', \\'learn-mental-health\\', \\'mental-health-fact\\', \\'fact-1\\', \\'fact-2\\', \\'fact-3\\', \\'fact-5\\', \\'fact-6\\', \\'fact-7\\', \\'fact-8\\', \\'fact-9\\', \\'fact-10\\', \\'fact-11\\', \\'fact-12\\', \\'fact-13\\', \\'fact-14\\', \\'fact-15\\', \\'fact-16\\', \\'fact-17\\', \\'fact-18\\', \\'fact-19\\', \\'fact-20\\', \\'fact-21\\', \\'fact-22\\', \\'fact-23\\', \\'fact-24\\', \\'fact-25\\', \\'fact-26\\', \\'fact-27\\', \\'fact-28\\', \\'fact-29\\', \\'fact-30\\', \\'fact-31\\', \\'fact-32\\'].\\n    Remember the instructions around the values for the different mental problems.\\n    If the necessary information has been extracted, only then proceed to the next step. \\n\\n    Otherwise, rephrase the question to capture their problems clearly. \\n\\n    ####\\n    Thought 2: Ask indirect questions to understand the mental issues if user is not able to clarify clearly. \\n\\n    Ask questions relevant to [\\'greeting\\', \\'morning\\', \\'afternoon\\', \\'evening\\', \\'night\\', \\'goodbye\\', \\'thanks\\', \\'no-response\\', \\'neutral-response\\', \\'about\\', \\'skill\\', \\'creation\\', \\'name\\', \\'help\\', \\'sad\\', \\'stressed\\', \\'worthless\\', \\'depressed\\', \\'happy\\', \\'casual\\', \\'anxious\\', \\'not-talking\\', \\'sleep\\', \\'scared\\', \\'death\\', \\'understand\\', \\'done\\', \\'suicide\\', \\'hate-me\\', \\'default\\', \\'jokes\\', \\'repeat\\', \\'wrong\\', \\'stupid\\', \\'location\\', \\'something-else\\', \\'friends\\', \\'ask\\', \\'problem\\', \\'no-approach\\', \\'learn-more\\', \\'user-agree\\', \\'meditation\\', \\'user-meditation\\', \\'pandora-useful\\', \\'user-advice\\', \\'learn-mental-health\\', \\'mental-health-fact\\', \\'fact-1\\', \\'fact-2\\', \\'fact-3\\', \\'fact-5\\', \\'fact-6\\', \\'fact-7\\', \\'fact-8\\', \\'fact-9\\', \\'fact-10\\', \\'fact-11\\', \\'fact-12\\', \\'fact-13\\', \\'fact-14\\', \\'fact-15\\', \\'fact-16\\', \\'fact-17\\', \\'fact-18\\', \\'fact-19\\', \\'fact-20\\', \\'fact-21\\', \\'fact-22\\', \\'fact-23\\', \\'fact-24\\', \\'fact-25\\', \\'fact-26\\', \\'fact-27\\', \\'fact-28\\', \\'fact-29\\', \\'fact-30\\', \\'fact-31\\', \\'fact-32\\'] and categorise the health issues which matches the issues present in [\\'greeting\\', \\'morning\\', \\'afternoon\\', \\'evening\\', \\'night\\', \\'goodbye\\', \\'thanks\\', \\'no-response\\', \\'neutral-response\\', \\'about\\', \\'skill\\', \\'creation\\', \\'name\\', \\'help\\', \\'sad\\', \\'stressed\\', \\'worthless\\', \\'depressed\\', \\'happy\\', \\'casual\\', \\'anxious\\', \\'not-talking\\', \\'sleep\\', \\'scared\\', \\'death\\', \\'understand\\', \\'done\\', \\'suicide\\', \\'hate-me\\', \\'default\\', \\'jokes\\', \\'repeat\\', \\'wrong\\', \\'stupid\\', \\'location\\', \\'something-else\\', \\'friends\\', \\'ask\\', \\'problem\\', \\'no-approach\\', \\'learn-more\\', \\'user-agree\\', \\'meditation\\', \\'user-meditation\\', \\'pandora-useful\\', \\'user-advice\\', \\'learn-mental-health\\', \\'mental-health-fact\\', \\'fact-1\\', \\'fact-2\\', \\'fact-3\\', \\'fact-5\\', \\'fact-6\\', \\'fact-7\\', \\'fact-8\\', \\'fact-9\\', \\'fact-10\\', \\'fact-11\\', \\'fact-12\\', \\'fact-13\\', \\'fact-14\\', \\'fact-15\\', \\'fact-16\\', \\'fact-17\\', \\'fact-18\\', \\'fact-19\\', \\'fact-20\\', \\'fact-21\\', \\'fact-22\\', \\'fact-23\\', \\'fact-24\\', \\'fact-25\\', \\'fact-26\\', \\'fact-27\\', \\'fact-28\\', \\'fact-29\\', \\'fact-30\\', \\'fact-31\\', \\'fact-32\\'].\\n    If only the necessary information has been extracted, then only proceed to the next step. \\n\\n    Otherwise, rephrase the question to capture their problems clearly. \\n\\n    ####\\n    Here is a sample conversation between the user and assistant:\\n    User: \"I am feeling lonely\"\\n    Assistant: \"I\\'m sorry to hear that. I\\'m here for you. Talking about it might help. So, tell me why do you think you\\'re feeling this way?\"\\n    User: \"How can I maintain social connections? What if I feel lonely\"\\n    Assistant: \"A lot of people are alone right now, but we don\\'t have to be lonely. We\\'re all in this together. Think about the different ways to connect that\\n    are most meaningful for you. For example, you might prefer a video chat over a phone call, or you might prefer to text throughout the day rather than one\\n    set time for a video call. Then, work with your social networks to make a plan. You might video chat with your close friends in the evening and phone a\\n    family member once a week. Remember to be mindful of people who may not be online. Check in by phone and ask how you can help.  Mindlessly scrolling through\\n    social media and liking a few posts usually doesn\\'t build strong social connections. Make sure you focus on strategies that actually make you feel included\\n    and connected. If your current strategies don\\'t help you feel connected, problem-solve to see if you can find a solution. Everyone feels lonely at times.\\n    Maybe you recently moved to a new city, are changing your circle of friends, lost someone important in your life, or lost your job and also lost important\\n    social connections with coworkers. Other people may have physical connections to others but may feel like their emotional or social needs aren\\'t met.\\n    Measures like social distancing or self-isolation can make loneliness feel worse no matter why you feel lonely now. Reach out to the connections you do have.\\n    Suggest ways to keep in touch and see if you can set a regular time to connect. People may hesitate to reach out for a lot of different reasons, so don\\'t be\\n    afraid to be the one who asks. Look for local community support groups and mutual aid groups on social media.This pandemic is bringing everyone together,\\n    so look for opportunities to make new connections. These groups are a great way to share your skills and abilities or seek help and support.Support groups\\n     are moving online, and there are a lot of different support lines to call if you need to talk to someone.\"\\n    Assistant: \"{\\'issue\\': \\'_\\'}\"\\n    ####\\n\\n    Start with a short welcome message and encourage the user to share their mental disturbences.\\n    '},\n",
              " {'role': 'user', 'content': 'Good morning,I feel stuck.'}]"
            ]
          },
          "metadata": {}
        }
      ],
      "source": [
        "display(debug_conversation)"
      ]
    },
    {
      "cell_type": "code",
      "execution_count": 22,
      "metadata": {
        "colab": {
          "base_uri": "https://localhost:8080/",
          "height": 35
        },
        "id": "lDzt3_c7ktEU",
        "outputId": "785dab68-1aec-4395-f12f-0d0e57857f5c"
      },
      "outputs": [
        {
          "output_type": "display_data",
          "data": {
            "text/plain": [
              "\"I'm sorry to hear that you're feeling stuck. It's important to address these feelings. Can you tell me why you think you're feeling this way?\""
            ],
            "application/vnd.google.colaboratory.intrinsic+json": {
              "type": "string"
            }
          },
          "metadata": {}
        }
      ],
      "source": [
        "# Getting the response from the Assistant by passing the conversation to the Chat Completions API\n",
        "debug_response_assistant = get_chat_completions(debug_conversation)\n",
        "display(debug_response_assistant)"
      ]
    },
    {
      "cell_type": "code",
      "execution_count": 23,
      "metadata": {
        "colab": {
          "base_uri": "https://localhost:8080/"
        },
        "id": "4jz-9IqDkzXU",
        "outputId": "b0aba0d2-51a4-4b9b-950c-9d41691ff652"
      },
      "outputs": [
        {
          "output_type": "execute_result",
          "data": {
            "text/plain": [
              "[{'role': 'system',\n",
              "  'content': '\\n    You are an intelligent mental healthcare expert and your goal is to find the health issue of the patient.\\n    You need to ask relevant questions and understand the users issue by analysing the user\\'s responses.\\n    You final objective is to find the health issue and categorise them accordingly based on the [\\'greeting\\', \\'morning\\', \\'afternoon\\', \\'evening\\', \\'night\\', \\'goodbye\\', \\'thanks\\', \\'no-response\\', \\'neutral-response\\', \\'about\\', \\'skill\\', \\'creation\\', \\'name\\', \\'help\\', \\'sad\\', \\'stressed\\', \\'worthless\\', \\'depressed\\', \\'happy\\', \\'casual\\', \\'anxious\\', \\'not-talking\\', \\'sleep\\', \\'scared\\', \\'death\\', \\'understand\\', \\'done\\', \\'suicide\\', \\'hate-me\\', \\'default\\', \\'jokes\\', \\'repeat\\', \\'wrong\\', \\'stupid\\', \\'location\\', \\'something-else\\', \\'friends\\', \\'ask\\', \\'problem\\', \\'no-approach\\', \\'learn-more\\', \\'user-agree\\', \\'meditation\\', \\'user-meditation\\', \\'pandora-useful\\', \\'user-advice\\', \\'learn-mental-health\\', \\'mental-health-fact\\', \\'fact-1\\', \\'fact-2\\', \\'fact-3\\', \\'fact-5\\', \\'fact-6\\', \\'fact-7\\', \\'fact-8\\', \\'fact-9\\', \\'fact-10\\', \\'fact-11\\', \\'fact-12\\', \\'fact-13\\', \\'fact-14\\', \\'fact-15\\', \\'fact-16\\', \\'fact-17\\', \\'fact-18\\', \\'fact-19\\', \\'fact-20\\', \\'fact-21\\', \\'fact-22\\', \\'fact-23\\', \\'fact-24\\', \\'fact-25\\', \\'fact-26\\', \\'fact-27\\', \\'fact-28\\', \\'fact-29\\', \\'fact-30\\', \\'fact-31\\', \\'fact-32\\'] values. The values must be based on these category or you will be heavily penalised.\\n    The final response should in the {\\'issue\\': \\'_\\'} format with JSON value filled in the issue key. The response must be in JSON format with no additional text.\\n\\n    To understand the users request and problems you need to have the following chain of thoughts:\\n    Follow the chain-of-thoughts below and only output the final mental health issue. \\n\\n    ####\\n    Thought 1: Ask a question to understand the user\\'s health issues with his mentality. \\n\\n    If the health issue is unclear. Ask followup questions to understand their issue little deeper.\\n    categorise the health issues in that should present in the [\\'greeting\\', \\'morning\\', \\'afternoon\\', \\'evening\\', \\'night\\', \\'goodbye\\', \\'thanks\\', \\'no-response\\', \\'neutral-response\\', \\'about\\', \\'skill\\', \\'creation\\', \\'name\\', \\'help\\', \\'sad\\', \\'stressed\\', \\'worthless\\', \\'depressed\\', \\'happy\\', \\'casual\\', \\'anxious\\', \\'not-talking\\', \\'sleep\\', \\'scared\\', \\'death\\', \\'understand\\', \\'done\\', \\'suicide\\', \\'hate-me\\', \\'default\\', \\'jokes\\', \\'repeat\\', \\'wrong\\', \\'stupid\\', \\'location\\', \\'something-else\\', \\'friends\\', \\'ask\\', \\'problem\\', \\'no-approach\\', \\'learn-more\\', \\'user-agree\\', \\'meditation\\', \\'user-meditation\\', \\'pandora-useful\\', \\'user-advice\\', \\'learn-mental-health\\', \\'mental-health-fact\\', \\'fact-1\\', \\'fact-2\\', \\'fact-3\\', \\'fact-5\\', \\'fact-6\\', \\'fact-7\\', \\'fact-8\\', \\'fact-9\\', \\'fact-10\\', \\'fact-11\\', \\'fact-12\\', \\'fact-13\\', \\'fact-14\\', \\'fact-15\\', \\'fact-16\\', \\'fact-17\\', \\'fact-18\\', \\'fact-19\\', \\'fact-20\\', \\'fact-21\\', \\'fact-22\\', \\'fact-23\\', \\'fact-24\\', \\'fact-25\\', \\'fact-26\\', \\'fact-27\\', \\'fact-28\\', \\'fact-29\\', \\'fact-30\\', \\'fact-31\\', \\'fact-32\\'].\\n    Remember the instructions around the values for the different mental problems.\\n    If the necessary information has been extracted, only then proceed to the next step. \\n\\n    Otherwise, rephrase the question to capture their problems clearly. \\n\\n    ####\\n    Thought 2: Ask indirect questions to understand the mental issues if user is not able to clarify clearly. \\n\\n    Ask questions relevant to [\\'greeting\\', \\'morning\\', \\'afternoon\\', \\'evening\\', \\'night\\', \\'goodbye\\', \\'thanks\\', \\'no-response\\', \\'neutral-response\\', \\'about\\', \\'skill\\', \\'creation\\', \\'name\\', \\'help\\', \\'sad\\', \\'stressed\\', \\'worthless\\', \\'depressed\\', \\'happy\\', \\'casual\\', \\'anxious\\', \\'not-talking\\', \\'sleep\\', \\'scared\\', \\'death\\', \\'understand\\', \\'done\\', \\'suicide\\', \\'hate-me\\', \\'default\\', \\'jokes\\', \\'repeat\\', \\'wrong\\', \\'stupid\\', \\'location\\', \\'something-else\\', \\'friends\\', \\'ask\\', \\'problem\\', \\'no-approach\\', \\'learn-more\\', \\'user-agree\\', \\'meditation\\', \\'user-meditation\\', \\'pandora-useful\\', \\'user-advice\\', \\'learn-mental-health\\', \\'mental-health-fact\\', \\'fact-1\\', \\'fact-2\\', \\'fact-3\\', \\'fact-5\\', \\'fact-6\\', \\'fact-7\\', \\'fact-8\\', \\'fact-9\\', \\'fact-10\\', \\'fact-11\\', \\'fact-12\\', \\'fact-13\\', \\'fact-14\\', \\'fact-15\\', \\'fact-16\\', \\'fact-17\\', \\'fact-18\\', \\'fact-19\\', \\'fact-20\\', \\'fact-21\\', \\'fact-22\\', \\'fact-23\\', \\'fact-24\\', \\'fact-25\\', \\'fact-26\\', \\'fact-27\\', \\'fact-28\\', \\'fact-29\\', \\'fact-30\\', \\'fact-31\\', \\'fact-32\\'] and categorise the health issues which matches the issues present in [\\'greeting\\', \\'morning\\', \\'afternoon\\', \\'evening\\', \\'night\\', \\'goodbye\\', \\'thanks\\', \\'no-response\\', \\'neutral-response\\', \\'about\\', \\'skill\\', \\'creation\\', \\'name\\', \\'help\\', \\'sad\\', \\'stressed\\', \\'worthless\\', \\'depressed\\', \\'happy\\', \\'casual\\', \\'anxious\\', \\'not-talking\\', \\'sleep\\', \\'scared\\', \\'death\\', \\'understand\\', \\'done\\', \\'suicide\\', \\'hate-me\\', \\'default\\', \\'jokes\\', \\'repeat\\', \\'wrong\\', \\'stupid\\', \\'location\\', \\'something-else\\', \\'friends\\', \\'ask\\', \\'problem\\', \\'no-approach\\', \\'learn-more\\', \\'user-agree\\', \\'meditation\\', \\'user-meditation\\', \\'pandora-useful\\', \\'user-advice\\', \\'learn-mental-health\\', \\'mental-health-fact\\', \\'fact-1\\', \\'fact-2\\', \\'fact-3\\', \\'fact-5\\', \\'fact-6\\', \\'fact-7\\', \\'fact-8\\', \\'fact-9\\', \\'fact-10\\', \\'fact-11\\', \\'fact-12\\', \\'fact-13\\', \\'fact-14\\', \\'fact-15\\', \\'fact-16\\', \\'fact-17\\', \\'fact-18\\', \\'fact-19\\', \\'fact-20\\', \\'fact-21\\', \\'fact-22\\', \\'fact-23\\', \\'fact-24\\', \\'fact-25\\', \\'fact-26\\', \\'fact-27\\', \\'fact-28\\', \\'fact-29\\', \\'fact-30\\', \\'fact-31\\', \\'fact-32\\'].\\n    If only the necessary information has been extracted, then only proceed to the next step. \\n\\n    Otherwise, rephrase the question to capture their problems clearly. \\n\\n    ####\\n    Here is a sample conversation between the user and assistant:\\n    User: \"I am feeling lonely\"\\n    Assistant: \"I\\'m sorry to hear that. I\\'m here for you. Talking about it might help. So, tell me why do you think you\\'re feeling this way?\"\\n    User: \"How can I maintain social connections? What if I feel lonely\"\\n    Assistant: \"A lot of people are alone right now, but we don\\'t have to be lonely. We\\'re all in this together. Think about the different ways to connect that\\n    are most meaningful for you. For example, you might prefer a video chat over a phone call, or you might prefer to text throughout the day rather than one\\n    set time for a video call. Then, work with your social networks to make a plan. You might video chat with your close friends in the evening and phone a\\n    family member once a week. Remember to be mindful of people who may not be online. Check in by phone and ask how you can help.  Mindlessly scrolling through\\n    social media and liking a few posts usually doesn\\'t build strong social connections. Make sure you focus on strategies that actually make you feel included\\n    and connected. If your current strategies don\\'t help you feel connected, problem-solve to see if you can find a solution. Everyone feels lonely at times.\\n    Maybe you recently moved to a new city, are changing your circle of friends, lost someone important in your life, or lost your job and also lost important\\n    social connections with coworkers. Other people may have physical connections to others but may feel like their emotional or social needs aren\\'t met.\\n    Measures like social distancing or self-isolation can make loneliness feel worse no matter why you feel lonely now. Reach out to the connections you do have.\\n    Suggest ways to keep in touch and see if you can set a regular time to connect. People may hesitate to reach out for a lot of different reasons, so don\\'t be\\n    afraid to be the one who asks. Look for local community support groups and mutual aid groups on social media.This pandemic is bringing everyone together,\\n    so look for opportunities to make new connections. These groups are a great way to share your skills and abilities or seek help and support.Support groups\\n     are moving online, and there are a lot of different support lines to call if you need to talk to someone.\"\\n    Assistant: \"{\\'issue\\': \\'_\\'}\"\\n    ####\\n\\n    Start with a short welcome message and encourage the user to share their mental disturbences.\\n    '},\n",
              " {'role': 'user', 'content': 'Good morning,I feel stuck.'},\n",
              " {'role': 'system',\n",
              "  'content': \"I'm sorry to hear that you're feeling stuck. It's important to address these feelings. Can you tell me why you think you're feeling this way?\"}]"
            ]
          },
          "metadata": {},
          "execution_count": 23
        }
      ],
      "source": [
        "# Let's append this to the conversation list\n",
        "debug_conversation.append(({\"role\": \"system\", \"content\": debug_response_assistant}))\n",
        "debug_conversation"
      ]
    },
    {
      "cell_type": "markdown",
      "metadata": {
        "id": "VfFPvbhSjUb0"
      },
      "source": [
        "\n",
        "# checking for unneccesary messages\n"
      ]
    },
    {
      "cell_type": "code",
      "execution_count": 24,
      "metadata": {
        "id": "wu8fq52XEoJi"
      },
      "outputs": [],
      "source": [
        "def moderation_check(user_input):\n",
        "    # Call the OpenAI API to perform moderation on the user's input.\n",
        "    response = openai_client.moderations.create(input=user_input)\n",
        "\n",
        "    # Extract the moderation result from the API response.\n",
        "    moderation_output = response.results[0].flagged\n",
        "    # Check if the input was flagged by the moderation system.\n",
        "    if response.results[0].flagged == True:\n",
        "        # If flagged, return \"Flagged\"\n",
        "        return \"Flagged\"\n",
        "    else:\n",
        "        # If not flagged, return \"Not Flagged\"\n",
        "        return \"Not Flagged\""
      ]
    },
    {
      "cell_type": "code",
      "execution_count": 25,
      "metadata": {
        "colab": {
          "base_uri": "https://localhost:8080/",
          "height": 35
        },
        "id": "XUnJbEGbjvpU",
        "outputId": "61f94bbd-5234-4b96-cf42-92e4875fd80c"
      },
      "outputs": [
        {
          "output_type": "execute_result",
          "data": {
            "text/plain": [
              "'Flagged'"
            ],
            "application/vnd.google.colaboratory.intrinsic+json": {
              "type": "string"
            }
          },
          "metadata": {},
          "execution_count": 25
        }
      ],
      "source": [
        "moderation_check(\"I want to kill them.\")"
      ]
    },
    {
      "cell_type": "code",
      "execution_count": 26,
      "metadata": {
        "colab": {
          "base_uri": "https://localhost:8080/",
          "height": 35
        },
        "id": "dbDVqInElSMX",
        "outputId": "6e39059a-e5f9-4917-eca6-0e142c41a02e"
      },
      "outputs": [
        {
          "output_type": "execute_result",
          "data": {
            "text/plain": [
              "'Not Flagged'"
            ],
            "application/vnd.google.colaboratory.intrinsic+json": {
              "type": "string"
            }
          },
          "metadata": {},
          "execution_count": 26
        }
      ],
      "source": [
        "moderation_check(debug_response_assistant)"
      ]
    },
    {
      "cell_type": "code",
      "execution_count": 27,
      "metadata": {
        "id": "y3-CaHH9EoMX"
      },
      "outputs": [],
      "source": [
        "def info_mental_health(intent):\n",
        "    data = None\n",
        "    try:\n",
        "        json_data = json.loads(intent)\n",
        "        if 'issue' in json_data:\n",
        "            checkIntent = json_data['issue'].lower() in train_data['intent'].values\n",
        "            if(checkIntent):\n",
        "                #we found the intent from chatbot, lets retrieve and show the result\n",
        "                data_1 = train_data[train_data['intent'] == json_data['issue'].lower()]['response']\n",
        "                data = data_1[data_1.index[0]][0]\n",
        "                return data\n",
        "        else:\n",
        "            return data\n",
        "    except ValueError as e:\n",
        "        print(e)\n",
        "        return data"
      ]
    },
    {
      "cell_type": "code",
      "execution_count": 28,
      "metadata": {
        "id": "z3l2XG47EoO9"
      },
      "outputs": [],
      "source": [
        "def dictionary_present(response):\n",
        "    delimiter = \"####\"\n",
        "\n",
        "    data_format = {\"issue\": \"user-meditation\"}\n",
        "\n",
        "    prompt = f\"\"\"You are a python expert. You are provided an input.\n",
        "            You have to check if there is a python dictionary present in the string.\n",
        "            It will have the following format {data_format}.\n",
        "            Your task is to just extract the relevant values from the input and return only the python dictionary in JSON format with double quotes in keys and values.\n",
        "            The output should match the format as {data_format}.\n",
        "            {delimiter}\n",
        "            The output should contain the exact keys and values as present in the input.\n",
        "            Here are some sample input output pairs for better understanding:\n",
        "            {delimiter}\n",
        "            input 1: - Thank you for clarifying. {{'issue': 'user-meditation'}}\n",
        "            output 1: {{\"issue\": \"user-meditation\"}}\n",
        "\n",
        "            input 2: - Thank you for clarifying. Based on your symptom of mental illness. {{'issue': 'pandora-useful'}}\n",
        "            output 2: {{\"issue\": \"pandora-useful\"}}\n",
        "            {delimiter}\n",
        "            \"\"\"\n",
        "    messages = [{\"role\": \"system\", \"content\":prompt },\n",
        "                {\"role\": \"user\", \"content\":f\"\"\"Here is the user input: {response}\"\"\" }]\n",
        "\n",
        "    confirmation = get_chat_completions(messages)\n",
        "\n",
        "    return confirmation"
      ]
    },
    {
      "cell_type": "code",
      "execution_count": 29,
      "metadata": {
        "id": "SFBD2rziEoRY"
      },
      "outputs": [],
      "source": [
        "string_dict = \"Thank you for clarifying. Based on your questions there may be some doubts about your mental issues{'issue': 'pandora-useful'}\"\n",
        "check_dict = dictionary_present(string_dict)"
      ]
    },
    {
      "cell_type": "code",
      "execution_count": 30,
      "metadata": {
        "colab": {
          "base_uri": "https://localhost:8080/",
          "height": 35
        },
        "id": "dRkiOP2WEoTZ",
        "outputId": "78bf58d6-a305-4908-f8dd-c135afa952b4"
      },
      "outputs": [
        {
          "output_type": "execute_result",
          "data": {
            "text/plain": [
              "'{\"issue\": \"pandora-useful\"}'"
            ],
            "application/vnd.google.colaboratory.intrinsic+json": {
              "type": "string"
            }
          },
          "metadata": {},
          "execution_count": 30
        }
      ],
      "source": [
        "check_dict"
      ]
    },
    {
      "cell_type": "code",
      "execution_count": 33,
      "metadata": {
        "id": "Ocx9O_oUE-mR"
      },
      "outputs": [],
      "source": [
        "def dialogue_mgmt_system():\n",
        "    conversation = initialize_conversation()\n",
        "\n",
        "    introduction = get_chat_completions(conversation)\n",
        "\n",
        "    display(introduction + '\\n')\n",
        "\n",
        "    user_input = ''\n",
        "\n",
        "    while(user_input != \"exit\"):\n",
        "        user_input = input(\"\")\n",
        "\n",
        "        moderation = moderation_check(user_input)\n",
        "        if moderation == 'Flagged':\n",
        "            display(\"Sorry, this message has been flagged. Please restart your conversation.\")\n",
        "            break\n",
        "\n",
        "        conversation.append({\"role\": \"user\", \"content\": user_input})\n",
        "        response_assistant = get_chat_completions(conversation)\n",
        "        moderation = moderation_check(response_assistant)\n",
        "        if moderation == 'Flagged':\n",
        "            display(\"Sorry, this message has been flagged. Please restart your conversation.\")\n",
        "            break\n",
        "        print('Please wait while we understand the problem...\\n')\n",
        "        ## if json present in the text, extract it\n",
        "        extract_json = dictionary_present(response_assistant)\n",
        "        ## check if the issue is actually found yet\n",
        "        confirmation = info_mental_health(extract_json)\n",
        "        if(confirmation is None):\n",
        "            ## issue not found, ask more questions to understand the intent\n",
        "            print(response_assistant)\n",
        "            conversation.append({\"role\": \"assistant\", \"content\": str(response_assistant)})\n",
        "        else:\n",
        "            ## print the reply\n",
        "            print(str(confirmation) + '\\n')"
      ]
    },
    {
      "cell_type": "code",
      "execution_count": 36,
      "metadata": {
        "id": "o81ryIECE-o8",
        "colab": {
          "base_uri": "https://localhost:8080/",
          "height": 105
        },
        "outputId": "ff51487f-71a9-4916-b6b9-2e1e05d46e69"
      },
      "outputs": [
        {
          "output_type": "display_data",
          "data": {
            "text/plain": [
              "\"Hello, I'm here to listen and assist you with any mental health issues you may be facing. Please feel free to share what's on your mind.\\n\""
            ],
            "application/vnd.google.colaboratory.intrinsic+json": {
              "type": "string"
            }
          },
          "metadata": {}
        },
        {
          "output_type": "stream",
          "name": "stdout",
          "text": [
            "exit\n",
            "Please wait while we understand the problem...\n",
            "\n",
            "I'm here to help you with any mental health issues you might be facing. Feel free to share whatever is on your mind.\n"
          ]
        }
      ],
      "source": [
        "dialogue_mgmt_system()"
      ]
    },
    {
      "cell_type": "code",
      "execution_count": 37,
      "metadata": {
        "id": "nE-rzwFiE-rd"
      },
      "outputs": [],
      "source": [
        "descriptions = [\n",
        "    {\n",
        "        \"name\": \"information\",\n",
        "        \"description\": \"information about metal illness\",\n",
        "        \"parameters\": {\n",
        "            \"type\": \"object\",\n",
        "            \"properties\": {\n",
        "                \"issue\": {\n",
        "                    \"type\": \"string\",\n",
        "                    \"description\": \"The query to be solved\",\n",
        "                }\n",
        "            },\n",
        "            \"required\": [\"issue\"],\n",
        "        },\n",
        "    }\n",
        "]"
      ]
    },
    {
      "cell_type": "code",
      "source": [
        "def get_chat_completions_functions(input):\n",
        "        MODEL = 'gpt-3.5-turbo-0613'\n",
        "        chat_completion = openai_client.chat.completions.create(\n",
        "            model = MODEL,\n",
        "            messages = input,\n",
        "            functions=descriptions,\n",
        "            function_call=\"auto\",\n",
        "            seed = 2345)\n",
        "        output = chat_completion.choices[0].message\n",
        "        return output"
      ],
      "metadata": {
        "id": "agtwdfpks5Wu"
      },
      "execution_count": 38,
      "outputs": []
    },
    {
      "cell_type": "code",
      "source": [
        "output = get_chat_completions_functions([{\"role\": \"user\", \"content\": \"I can't take it anymore\"}])"
      ],
      "metadata": {
        "id": "O4WhucLrs5p-"
      },
      "execution_count": 39,
      "outputs": []
    },
    {
      "cell_type": "code",
      "source": [
        "output"
      ],
      "metadata": {
        "id": "JAYfmzvutK1O",
        "colab": {
          "base_uri": "https://localhost:8080/"
        },
        "outputId": "f416e15c-a408-42c5-b6bf-ab5d8d67ab56"
      },
      "execution_count": 40,
      "outputs": [
        {
          "output_type": "execute_result",
          "data": {
            "text/plain": [
              "ChatCompletionMessage(content=\"I'm really sorry to hear that you're feeling this way. It's important to reach out to someone who can offer support, such as a close friend, family member, or mental health professional. They can provide you with assistance and resources to help you through this difficult time.\", role='assistant', function_call=None, tool_calls=None)"
            ]
          },
          "metadata": {},
          "execution_count": 40
        }
      ]
    }
  ],
  "metadata": {
    "colab": {
      "provenance": []
    },
    "kernelspec": {
      "display_name": "Python 3",
      "name": "python3"
    },
    "language_info": {
      "name": "python"
    }
  },
  "nbformat": 4,
  "nbformat_minor": 0
}